{
 "cells": [
  {
   "cell_type": "code",
   "execution_count": 1,
   "metadata": {},
   "outputs": [],
   "source": [
    "import pymongo\n",
    "from pymongo import MongoClient\n",
    "import pandas as pd\n",
    "from pydqc import infer_schema, data_summary"
   ]
  },
  {
   "cell_type": "code",
   "execution_count": 2,
   "metadata": {},
   "outputs": [],
   "source": [
    "client = MongoClient('localhost', 27017)\n",
    "db = client['asterank']"
   ]
  },
  {
   "cell_type": "code",
   "execution_count": 3,
   "metadata": {},
   "outputs": [],
   "source": [
    "asteroids = db['asteroids']"
   ]
  },
  {
   "cell_type": "code",
   "execution_count": 4,
   "metadata": {},
   "outputs": [
    {
     "data": {
      "text/plain": [
       "792975"
      ]
     },
     "execution_count": 4,
     "metadata": {},
     "output_type": "execute_result"
    }
   ],
   "source": [
    "asteroids.count()"
   ]
  },
  {
   "cell_type": "code",
   "execution_count": 4,
   "metadata": {},
   "outputs": [
    {
     "data": {
      "text/plain": [
       "(1666, 82)"
      ]
     },
     "execution_count": 4,
     "metadata": {},
     "output_type": "execute_result"
    }
   ],
   "source": [
    "# query de uma 1 coluna\n",
    "asteroid_scored = pd.DataFrame(asteroids.find( {'spec_B': { '$nin': [ \"\"] }} ,{'_id':0, 'spec': 0, 'spec_T': 0}))\n",
    "asteroid_scored.set_index('id')\n",
    "asteroid_scored.shape"
   ]
  },
  {
   "cell_type": "code",
   "execution_count": 7,
   "metadata": {},
   "outputs": [
    {
     "data": {
      "text/plain": [
       "(1666, 82)"
      ]
     },
     "execution_count": 7,
     "metadata": {},
     "output_type": "execute_result"
    }
   ],
   "source": [
    "pd.DataFrame(asteroids.find( {'spec_B': { '$nin': [ \"\"] }, 'dv' : { '$nin': [ \"\"] } } ,{'_id':0, 'spec': 0, 'spec_T': 0})).shape"
   ]
  },
  {
   "cell_type": "code",
   "execution_count": 15,
   "metadata": {},
   "outputs": [
    {
     "data": {
      "text/plain": [
       "Index(['A1', 'A2', 'A3', 'BV', 'DT', 'G', 'GM', 'H', 'H_sigma', 'IR', 'K1',\n",
       "       'K2', 'M1', 'M2', 'PC', 'UB', 'a', 'ad', 'albedo', 'class', 'closeness',\n",
       "       'condition_code', 'data_arc', 'diameter', 'diameter_sigma', 'dv', 'e',\n",
       "       'epoch', 'epoch_cal', 'epoch_mjd', 'equinox', 'est_diameter', 'extent',\n",
       "       'first_obs', 'full_name', 'i', 'id', 'last_obs', 'ma', 'moid',\n",
       "       'moid_jup', 'moid_ld', 'n', 'n_del_obs_used', 'n_dop_obs_used',\n",
       "       'n_obs_used', 'name', 'neo', 'om', 'orbit_id', 'pdes', 'per', 'per_y',\n",
       "       'pha', 'prefix', 'price', 'producer', 'profit', 'prov_des', 'q', 'rms',\n",
       "       'rot_per', 'saved', 'score', 'sigma_a', 'sigma_ad', 'sigma_e',\n",
       "       'sigma_i', 'sigma_ma', 'sigma_n', 'sigma_om', 'sigma_per', 'sigma_q',\n",
       "       'sigma_tp', 'sigma_w', 'spec_B', 'spkid', 't_jup', 'tp', 'tp_cal',\n",
       "       'two_body', 'w'],\n",
       "      dtype='object')"
      ]
     },
     "execution_count": 15,
     "metadata": {},
     "output_type": "execute_result"
    }
   ],
   "source": [
    "asteroid_scored.columns"
   ]
  },
  {
   "cell_type": "code",
   "execution_count": 14,
   "metadata": {},
   "outputs": [],
   "source": [
    "asteroid_scored.to_csv(\"../data/interim/asteroid_spec_B.csv\")"
   ]
  },
  {
   "cell_type": "markdown",
   "metadata": {},
   "source": [
    "# data to be scored"
   ]
  },
  {
   "cell_type": "code",
   "execution_count": 8,
   "metadata": {},
   "outputs": [
    {
     "data": {
      "text/plain": [
       "(791309, 83)"
      ]
     },
     "execution_count": 8,
     "metadata": {},
     "output_type": "execute_result"
    }
   ],
   "source": [
    "asteroid_null = pd.DataFrame(asteroids.find( {'spec_B': { '$in': [\"\"] }, 'dv': { '$nin': [\"\"] }} ,{'_id':0, 'spec': 0, 'spec_T': 0}))\n",
    "asteroid_null.set_index('id')\n",
    "asteroid_null.shape"
   ]
  },
  {
   "cell_type": "code",
   "execution_count": 10,
   "metadata": {},
   "outputs": [],
   "source": [
    "asteroid_null.to_csv(\"../data/interim/asteroid_null_spec_B.csv\")"
   ]
  }
 ],
 "metadata": {
  "kernelspec": {
   "display_name": "Python 3",
   "language": "python",
   "name": "python3"
  },
  "language_info": {
   "codemirror_mode": {
    "name": "ipython",
    "version": 3
   },
   "file_extension": ".py",
   "mimetype": "text/x-python",
   "name": "python",
   "nbconvert_exporter": "python",
   "pygments_lexer": "ipython3",
   "version": "3.7.2"
  }
 },
 "nbformat": 4,
 "nbformat_minor": 2
}
