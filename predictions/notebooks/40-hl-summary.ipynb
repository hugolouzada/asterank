{
 "cells": [
  {
   "cell_type": "markdown",
   "metadata": {},
   "source": [
    "# Predicting asteroid's spectral types"
   ]
  },
  {
   "cell_type": "markdown",
   "metadata": {},
   "source": [
    "It is very hard to classify asteroids, but nonetheless extremely useful. Rocks of just a few kilometers radius that are seen for a small amount of time have usually just a few features measured during a sky survey. With this few information, the Small Main-Belt Asteroid Spectroscopic Survey (SMASS) was able to categorize a few thousand asteroid into several composition classes, which, in turn, allows us to calculate, for instance, the potential commercial value of that asteroid. However, around $800,000$ thousand asteroids remain unclassified in terms of composition, a problem that we address here. Using the latest data from JPL, we use a machine-learning algorithm to learn how to predict an asteroid composition based on a few of its features. The prediction is them applied to unclassified asteroids and a new rank of expected commercial value is proposed. "
   ]
  },
  {
   "cell_type": "markdown",
   "metadata": {},
   "source": [
    "## Data"
   ]
  },
  {
   "cell_type": "markdown",
   "metadata": {},
   "source": [
    "## The SMASS classification"
   ]
  },
  {
   "cell_type": "markdown",
   "metadata": {},
   "source": [
    "## ML algorithm"
   ]
  },
  {
   "cell_type": "markdown",
   "metadata": {},
   "source": [
    "## New proposed commercial rank"
   ]
  },
  {
   "cell_type": "markdown",
   "metadata": {},
   "source": [
    "## Interesting links"
   ]
  },
  {
   "cell_type": "markdown",
   "metadata": {},
   "source": [
    "https://ssd.jpl.nasa.gov/sbdb_query.cgi#x\n",
    "\n",
    "http://www.asterank.com/api\n",
    "\n"
   ]
  }
 ],
 "metadata": {
  "kernelspec": {
   "display_name": "Python 3",
   "language": "python",
   "name": "python3"
  },
  "language_info": {
   "codemirror_mode": {
    "name": "ipython",
    "version": 3
   },
   "file_extension": ".py",
   "mimetype": "text/x-python",
   "name": "python",
   "nbconvert_exporter": "python",
   "pygments_lexer": "ipython3",
   "version": "3.7.2"
  }
 },
 "nbformat": 4,
 "nbformat_minor": 2
}
