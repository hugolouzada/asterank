{
 "cells": [
  {
   "cell_type": "markdown",
   "metadata": {},
   "source": [
    "# Predicting asteroid's spectral types"
   ]
  },
  {
   "cell_type": "markdown",
   "metadata": {},
   "source": [
    "It is very hard to classify asteroids, but nonetheless extremely useful. Rocks of just a few kilometers radius that are seen for a small amount of time have usually just a few features measured during a sky survey. With this few information, the Small Main-Belt Asteroid Spectroscopic Survey (SMASS) was able to categorize a few thousand asteroid into several composition classes, which, in turn, allows us to calculate, for instance, the potential commercial value of that asteroid. However, around $800,000$ thousand asteroids remain unclassified in terms of composition, a problem that we address here. Using the latest data from JPL, we use a machine-learning algorithm to learn an asteroid composition based on a few of its features. The prediction is then applied to unclassified asteroids resulting in a new rank of expected commercial value. "
   ]
  },
  {
   "cell_type": "markdown",
   "metadata": {},
   "source": [
    "# 1. Data"
   ]
  },
  {
   "cell_type": "markdown",
   "metadata": {},
   "source": [
    "Asteroid data was collected from JPL Small-body database, which, by the time of query (Jan-2019), had cataloged $792,975$ asteroids, named here as the complete set $C$ of asteroids. This collection includes features such as magnetism, orbit's eccentricity, color index magnitude differences, IAU identification, and some flags for special characteristics, such as Near Earth Objects. For a subset $T$ of $1,666$ asteroids a SMASS classification is available. We proceed to use $T$ as a train-test-validation set for our machine learning algorithms.  "
   ]
  },
  {
   "cell_type": "markdown",
   "metadata": {},
   "source": [
    "## 1.1 Distribution of SMASS classification"
   ]
  },
  {
   "cell_type": "markdown",
   "metadata": {},
   "source": [
    "The independent variable of our classification problem, the SMASS class, consists of a set of $26$ possible classes attributed according their visible-wavelength charge-coupled device (CCD) spectra. These classes are labeled by specialists according to the presence or absence of specific spectral features. There are three main groups of classes:\n",
    "\n",
    "- C-group, for carbonaceous objects;\n",
    "- S-group, for silicaceous (stony) objects;\n",
    "- X-group, for mostly metallic objects; \n",
    "- and other smaller groups. \n",
    "\n",
    "![title](fig1.png)\n",
    "\n",
    "Fig. 1 shows the distribution of main groups and their sub-divisions in the set $T$."
   ]
  },
  {
   "cell_type": "markdown",
   "metadata": {},
   "source": [
    "## 1.2 Features"
   ]
  },
  {
   "cell_type": "markdown",
   "metadata": {},
   "source": [
    "## ML algorithm"
   ]
  },
  {
   "cell_type": "markdown",
   "metadata": {},
   "source": [
    "## New proposed commercial rank"
   ]
  },
  {
   "cell_type": "markdown",
   "metadata": {},
   "source": [
    "## Interesting links"
   ]
  },
  {
   "cell_type": "markdown",
   "metadata": {},
   "source": [
    "https://ssd.jpl.nasa.gov/sbdb_query.cgi#x\n",
    "\n",
    "http://www.asterank.com/api\n",
    "\n",
    "http://adsabs.harvard.edu/cgi-bin/bib_query?bibcode=2002Icar..158..146B\n"
   ]
  }
 ],
 "metadata": {
  "kernelspec": {
   "display_name": "Python 3",
   "language": "python",
   "name": "python3"
  },
  "language_info": {
   "codemirror_mode": {
    "name": "ipython",
    "version": 3
   },
   "file_extension": ".py",
   "mimetype": "text/x-python",
   "name": "python",
   "nbconvert_exporter": "python",
   "pygments_lexer": "ipython3",
   "version": "3.7.2"
  }
 },
 "nbformat": 4,
 "nbformat_minor": 2
}
