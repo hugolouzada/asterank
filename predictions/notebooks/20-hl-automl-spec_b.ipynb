{
 "cells": [
  {
   "cell_type": "code",
   "execution_count": 3,
   "metadata": {},
   "outputs": [
    {
     "name": "stdout",
     "output_type": "stream",
     "text": [
      "Checking whether there is an H2O instance running at http://localhost:54321 ..... not found.\n",
      "Attempting to start a local H2O server...\n",
      "  Java Version: openjdk version \"11.0.2\" 2019-01-15; OpenJDK Runtime Environment (build 11.0.2+9-Ubuntu-3ubuntu118.04.3); OpenJDK 64-Bit Server VM (build 11.0.2+9-Ubuntu-3ubuntu118.04.3, mixed mode, sharing)\n",
      "  Starting server from /home/louzada/Documents/_Projects/asterank/venv/lib/python3.7/site-packages/h2o/backend/bin/h2o.jar\n",
      "  Ice root: /tmp/tmpthx16_5w\n",
      "  JVM stdout: /tmp/tmpthx16_5w/h2o_louzada_started_from_python.out\n",
      "  JVM stderr: /tmp/tmpthx16_5w/h2o_louzada_started_from_python.err\n",
      "  Server is running at http://127.0.0.1:54321\n",
      "Connecting to H2O server at http://127.0.0.1:54321 ... successful.\n"
     ]
    },
    {
     "data": {
      "text/html": [
       "<div style=\"overflow:auto\"><table style=\"width:50%\"><tr><td>H2O cluster uptime:</td>\n",
       "<td>01 secs</td></tr>\n",
       "<tr><td>H2O cluster timezone:</td>\n",
       "<td>America/Sao_Paulo</td></tr>\n",
       "<tr><td>H2O data parsing timezone:</td>\n",
       "<td>UTC</td></tr>\n",
       "<tr><td>H2O cluster version:</td>\n",
       "<td>3.24.0.3</td></tr>\n",
       "<tr><td>H2O cluster version age:</td>\n",
       "<td>1 day </td></tr>\n",
       "<tr><td>H2O cluster name:</td>\n",
       "<td>H2O_from_python_louzada_qnqfbg</td></tr>\n",
       "<tr><td>H2O cluster total nodes:</td>\n",
       "<td>1</td></tr>\n",
       "<tr><td>H2O cluster free memory:</td>\n",
       "<td>5 Gb</td></tr>\n",
       "<tr><td>H2O cluster total cores:</td>\n",
       "<td>4</td></tr>\n",
       "<tr><td>H2O cluster allowed cores:</td>\n",
       "<td>4</td></tr>\n",
       "<tr><td>H2O cluster status:</td>\n",
       "<td>accepting new members, healthy</td></tr>\n",
       "<tr><td>H2O connection url:</td>\n",
       "<td>http://127.0.0.1:54321</td></tr>\n",
       "<tr><td>H2O connection proxy:</td>\n",
       "<td>None</td></tr>\n",
       "<tr><td>H2O internal security:</td>\n",
       "<td>False</td></tr>\n",
       "<tr><td>H2O API Extensions:</td>\n",
       "<td>Amazon S3, XGBoost, Algos, AutoML, Core V3, Core V4</td></tr>\n",
       "<tr><td>Python version:</td>\n",
       "<td>3.7.2 final</td></tr></table></div>"
      ],
      "text/plain": [
       "--------------------------  ---------------------------------------------------\n",
       "H2O cluster uptime:         01 secs\n",
       "H2O cluster timezone:       America/Sao_Paulo\n",
       "H2O data parsing timezone:  UTC\n",
       "H2O cluster version:        3.24.0.3\n",
       "H2O cluster version age:    1 day\n",
       "H2O cluster name:           H2O_from_python_louzada_qnqfbg\n",
       "H2O cluster total nodes:    1\n",
       "H2O cluster free memory:    5 Gb\n",
       "H2O cluster total cores:    4\n",
       "H2O cluster allowed cores:  4\n",
       "H2O cluster status:         accepting new members, healthy\n",
       "H2O connection url:         http://127.0.0.1:54321\n",
       "H2O connection proxy:\n",
       "H2O internal security:      False\n",
       "H2O API Extensions:         Amazon S3, XGBoost, Algos, AutoML, Core V3, Core V4\n",
       "Python version:             3.7.2 final\n",
       "--------------------------  ---------------------------------------------------"
      ]
     },
     "metadata": {},
     "output_type": "display_data"
    }
   ],
   "source": [
    "import h2o\n",
    "from h2o.automl import H2OAutoML\n",
    "\n",
    "h2o.init(nthreads = -1, max_mem_size = 5)"
   ]
  },
  {
   "cell_type": "code",
   "execution_count": 4,
   "metadata": {},
   "outputs": [
    {
     "name": "stdout",
     "output_type": "stream",
     "text": [
      "Parse progress: |█████████████████████████████████████████████████████████| 100%\n",
      "Rows:1666\n",
      "Cols:83\n",
      "\n",
      "\n"
     ]
    },
    {
     "data": {
      "text/html": [
       "<table>\n",
       "<thead>\n",
       "<tr><th>       </th><th>C1               </th><th>A1                    </th><th>A2                     </th><th>A3  </th><th>BV                 </th><th>DT  </th><th>G                  </th><th>GM                </th><th>H                 </th><th>H_sigma            </th><th>IR   </th><th>K1  </th><th>K2  </th><th>M1  </th><th>M2  </th><th>PC  </th><th>UB                 </th><th>a                 </th><th>ad                </th><th>albedo             </th><th>class  </th><th>closeness         </th><th>condition_code     </th><th>data_arc          </th><th>diameter         </th><th>diameter_sigma    </th><th>dv                </th><th>e                   </th><th>epoch            </th><th>epoch_cal         </th><th>epoch_mjd        </th><th>equinox  </th><th>est_diameter       </th><th>extent               </th><th>first_obs          </th><th>full_name    </th><th>i                 </th><th>id      </th><th>last_obs           </th><th>ma                 </th><th>moid              </th><th>moid_jup          </th><th>moid_ld           </th><th>n                    </th><th>n_del_obs_used    </th><th>n_dop_obs_used    </th><th>n_obs_used        </th><th>name      </th><th>neo  </th><th>om                 </th><th>orbit_id         </th><th>pdes              </th><th>per               </th><th>per_y            </th><th>pha  </th><th>prefix  </th><th>price                 </th><th>producer         </th><th>profit                </th><th>prov_des  </th><th>q                 </th><th>rms                </th><th>rot_per           </th><th>saved                 </th><th>score                 </th><th>sigma_a              </th><th>sigma_ad              </th><th>sigma_e              </th><th>sigma_i               </th><th>sigma_ma           </th><th>sigma_n               </th><th>sigma_om              </th><th>sigma_per         </th><th>sigma_q               </th><th>sigma_tp           </th><th>sigma_w               </th><th>spec_B  </th><th>spkid             </th><th>t_jup             </th><th>tp                </th><th>tp_cal            </th><th>two_body  </th><th>w                  </th></tr>\n",
       "</thead>\n",
       "<tbody>\n",
       "<tr><td>type   </td><td>int              </td><td>real                  </td><td>real                   </td><td>int </td><td>real               </td><td>int </td><td>real               </td><td>real              </td><td>real              </td><td>real               </td><td>real </td><td>int </td><td>int </td><td>int </td><td>int </td><td>int </td><td>real               </td><td>real              </td><td>real              </td><td>real               </td><td>enum   </td><td>real              </td><td>int                </td><td>int               </td><td>real             </td><td>real              </td><td>real              </td><td>real                </td><td>real             </td><td>int               </td><td>int              </td><td>enum     </td><td>real               </td><td>string               </td><td>time               </td><td>string       </td><td>real              </td><td>string  </td><td>time               </td><td>real               </td><td>real              </td><td>real              </td><td>real              </td><td>real                 </td><td>int               </td><td>int               </td><td>int               </td><td>string    </td><td>enum </td><td>real               </td><td>int              </td><td>int               </td><td>real              </td><td>real             </td><td>enum </td><td>int     </td><td>real                  </td><td>enum             </td><td>real                  </td><td>string    </td><td>real              </td><td>real               </td><td>real              </td><td>real                  </td><td>real                  </td><td>real                 </td><td>real                  </td><td>real                 </td><td>real                  </td><td>real               </td><td>real                  </td><td>real                  </td><td>real              </td><td>real                  </td><td>real               </td><td>real                  </td><td>enum    </td><td>int               </td><td>real              </td><td>real              </td><td>real              </td><td>int       </td><td>real               </td></tr>\n",
       "<tr><td>mins   </td><td>0.0              </td><td>-4.067208096760039e-13</td><td>-7.643376510438237e-14 </td><td>NaN </td><td>0.615              </td><td>NaN </td><td>-0.12              </td><td>2.1e-09           </td><td>3.2               </td><td>0.06               </td><td>-0.33</td><td>NaN </td><td>NaN </td><td>NaN </td><td>NaN </td><td>NaN </td><td>0.16               </td><td>0.6421955966193644</td><td>1.006081058798861 </td><td>0.015              </td><td>       </td><td>-1.0              </td><td>0.0                </td><td>5.0               </td><td>0.16             </td><td>0.005             </td><td>4.251396          </td><td>0.004735193266255218</td><td>2450936.5        </td><td>19980503.0        </td><td>50936.0          </td><td>         </td><td>0.01719805570924787</td><td>NaN                  </td><td>-4723056000000.0   </td><td>NaN          </td><td>0.2648081063605622</td><td>NaN     </td><td>838339200000.0     </td><td>0.06214334610487449</td><td>0.000166385       </td><td>0.0492047         </td><td>0.06475205045     </td><td>0.0002443964231753478</td><td>0.0               </td><td>0.0               </td><td>13.0              </td><td>NaN       </td><td>     </td><td>0.06058753168343978</td><td>3.0              </td><td>1.0               </td><td>187.974705007821  </td><td>0.514646694066587</td><td>     </td><td>NaN     </td><td>0.0                   </td><td>                 </td><td>-6.823244735330501e-46</td><td>NaN       </td><td>0.1396518255040869</td><td>0.18908            </td><td>0.0217            </td><td>-2.432475157832954e+19</td><td>0.0                   </td><td>2.5823e-11           </td><td>2.7786e-11            </td><td>1.172e-11            </td><td>1.9267e-09            </td><td>3.8719e-09         </td><td>2.9918e-12            </td><td>1.1722e-08            </td><td>2.3411e-08        </td><td>5.6278e-11            </td><td>1.327e-08          </td><td>1.1463e-08            </td><td>        </td><td>2000001.0         </td><td>1.713             </td><td>2450137.375257462 </td><td>19960223.8752575  </td><td>NaN       </td><td>0.02976799235673327</td></tr>\n",
       "<tr><td>mean   </td><td>832.5            </td><td>-4.067208096760039e-13</td><td>-1.6503286591023956e-14</td><td>0.0 </td><td>0.7750405117270789 </td><td>0.0 </td><td>0.19030000000000002</td><td>1.1748568479131822</td><td>12.402323529411765</td><td>0.29954333333333333</td><td>-0.33</td><td>0.0 </td><td>0.0 </td><td>0.0 </td><td>0.0 </td><td>0.0 </td><td>0.37498039215686274</td><td>2.6506889952614388</td><td>3.300386712389116 </td><td>0.18565526122148637</td><td>       </td><td>2714.643847436186 </td><td>0.10384153661464585</td><td>28393.761704681874</td><td>40.45849270072992</td><td>0.8017239263803678</td><td>9.650561361522199 </td><td>0.21335302421998148 </td><td>2458538.918967587</td><td>20188719.668067228</td><td>58538.41896758704</td><td>         </td><td>3.2571009292784523 </td><td>0.0                  </td><td>-937302828331.3329 </td><td>NaN          </td><td>10.559864843887924</td><td>NaN     </td><td>1515918182953.1812 </td><td>183.96583546736264 </td><td>1.0578858773151258</td><td>2.3044568851740697</td><td>411.6974468747276 </td><td>0.28883347638466184  </td><td>43.05617977528089 </td><td>3.067415730337079 </td><td>1832.3007202881151</td><td>0.0       </td><td>     </td><td>173.64782530177487 </td><td>58.42613981762918</td><td>21951.934079601986</td><td>2362.093076662439 </td><td>6.467058389219542</td><td>     </td><td>0.0     </td><td>1.0948738128022946e+17</td><td>                 </td><td>7563887619082337.0    </td><td>NaN       </td><td>2.000991278133761 </td><td>0.47321980792316926</td><td>21.788398167703125</td><td>-3.807632570021603e+16</td><td>67.40870052332947     </td><td>0.0002508037349289316</td><td>0.00047469770182294714</td><td>9.962276533787507e-06</td><td>0.00024322476600042013</td><td>0.01180944409894472</td><td>8.745384728293403e-06 </td><td>0.00013402200139975986</td><td>1.7462417570831856</td><td>3.0821901873217294e-06</td><td>0.04121743626941779</td><td>0.00027318655471968785</td><td>        </td><td>2058528.7226890756</td><td>3.5299627851140456</td><td>2458523.618158169 </td><td>20186763.814436678</td><td>0.0       </td><td>177.46419703275757 </td></tr>\n",
       "<tr><td>maxs   </td><td>1665.0           </td><td>-4.067208096760039e-13</td><td>6.11653514199254e-14   </td><td>NaN </td><td>1.077              </td><td>NaN </td><td>0.6                </td><td>62.873006         </td><td>26.5              </td><td>0.43863            </td><td>-0.33</td><td>NaN </td><td>NaN </td><td>NaN </td><td>NaN </td><td>NaN </td><td>0.655              </td><td>253.360837265531  </td><td>504.2283532872835 </td><td>1.0                </td><td>       </td><td>6839.268079789288 </td><td>9.0                </td><td>72161.0           </td><td>939.4            </td><td>39.297            </td><td>25.538535         </td><td>0.9901590108767856  </td><td>2458600.5        </td><td>20190427.0        </td><td>58600.0          </td><td>         </td><td>16.424015696315376 </td><td>NaN                  </td><td>1235692800000.0    </td><td>NaN          </td><td>64.0068976115514  </td><td>NaN     </td><td>1541203200000.0    </td><td>359.9508931056151  </td><td>12.2113           </td><td>8.22388           </td><td>4752.271621       </td><td>1.915151296473754    </td><td>2977.0            </td><td>29.0              </td><td>9325.0            </td><td>NaN       </td><td>     </td><td>359.9762844491638  </td><td>846.0            </td><td>523805.0          </td><td>1473016.64779975  </td><td>4032.89978863723 </td><td>     </td><td>NaN     </td><td>2.051017038378588e+19 </td><td>                 </td><td>1.4186809642263296e+18</td><td>NaN       </td><td>13.13876621116252 </td><td>0.97644            </td><td>1332.0            </td><td>2.5218551002104488e+19</td><td>289.6485753891859     </td><td>0.32423              </td><td>0.64527               </td><td>0.0064328            </td><td>0.22778               </td><td>6.013              </td><td>0.0051987             </td><td>0.067545              </td><td>2827.6            </td><td>0.0026311             </td><td>25.327             </td><td>0.16236               </td><td>        </td><td>3448992.0         </td><td>8.499             </td><td>2460114.139996748 </td><td>20230618.6399967  </td><td>NaN       </td><td>359.9176450484994  </td></tr>\n",
       "<tr><td>sigma  </td><td>481.0770901494548</td><td>0.0                   </td><td>2.850453912098904e-14  </td><td>-0.0</td><td>0.08786786201909064</td><td>-0.0</td><td>0.13044179010601092</td><td>5.890273946379365 </td><td>3.391097097326186 </td><td>0.2083478476810676 </td><td>0.0  </td><td>-0.0</td><td>-0.0</td><td>-0.0</td><td>-0.0</td><td>-0.0</td><td>0.09050897834217646</td><td>6.182606422406173 </td><td>12.307805925157114</td><td>0.1435990903455602 </td><td>       </td><td>280.0879305551791 </td><td>0.7715027316635787 </td><td>14792.050008490769</td><td>58.29999401215833</td><td>2.2055296109167215</td><td>1.8595655249782441</td><td>0.16347665191543317 </td><td>523.6494274409821</td><td>14508.725848433865</td><td>523.6494274409495</td><td>         </td><td>3.758970963861345  </td><td>-0.0                 </td><td>1246767813581.0388 </td><td>NaN          </td><td>8.276213129622645 </td><td>NaN     </td><td>84332717513.04681  </td><td>105.12065312669769 </td><td>0.6412521900499544</td><td>0.5861872864079347</td><td>249.55611480174076</td><td>0.17738536527821003  </td><td>317.44474678676403</td><td>5.3847380133978255</td><td>845.6683297412815 </td><td>-0.0      </td><td>     </td><td>102.9049800277347  </td><td>71.59753473778188</td><td>73218.16027641796 </td><td>36061.163622242646</td><td>98.7300852080564 </td><td>     </td><td>-0.0    </td><td>6.946489589828643e+17 </td><td>                 </td><td>4.762462258317425e+16 </td><td>NaN       </td><td>0.7121211393105743</td><td>0.05174481001343466</td><td>74.88404136048219 </td><td>1.259570440106086e+18 </td><td>67.75485593435523     </td><td>0.008033365775003888 </td><td>0.015917131920089447  </td><td>0.0002016103944566911</td><td>0.006210196536831925  </td><td>0.1805932602226748 </td><td>0.00017122370828316305</td><td>0.0020766746017651374 </td><td>69.28260908432314 </td><td>6.761169172240181e-05 </td><td>0.7144358871919114 </td><td>0.004709668192665381  </td><td>        </td><td>205999.64516853006</td><td>0.6107421034549189</td><td>743.229752210115  </td><td>20512.89899622219 </td><td>-0.0      </td><td>101.9637840256454  </td></tr>\n",
       "<tr><td>zeros  </td><td>1                </td><td>0                     </td><td>0                      </td><td>0   </td><td>0                  </td><td>0   </td><td>0                  </td><td>0                 </td><td>0                 </td><td>0                  </td><td>0    </td><td>0   </td><td>0   </td><td>0   </td><td>0   </td><td>0   </td><td>0                  </td><td>0                 </td><td>0                 </td><td>0                  </td><td>       </td><td>0                 </td><td>1624               </td><td>0                 </td><td>0                </td><td>0                 </td><td>0                 </td><td>0                   </td><td>0                </td><td>0                 </td><td>0                </td><td>         </td><td>0                  </td><td>0                    </td><td>0                  </td><td>0            </td><td>0                 </td><td>0       </td><td>0                  </td><td>0                  </td><td>0                 </td><td>0                 </td><td>0                 </td><td>0                    </td><td>13                </td><td>30                </td><td>0                 </td><td>0         </td><td>     </td><td>0                  </td><td>0                </td><td>0                 </td><td>0                 </td><td>0                </td><td>     </td><td>0       </td><td>21                    </td><td>                 </td><td>21                    </td><td>0         </td><td>0                 </td><td>0                  </td><td>0                 </td><td>0                     </td><td>21                    </td><td>0                    </td><td>0                     </td><td>0                    </td><td>0                     </td><td>0                  </td><td>0                     </td><td>0                     </td><td>0                 </td><td>0                     </td><td>0                  </td><td>0                     </td><td>        </td><td>0                 </td><td>0                 </td><td>0                 </td><td>0                 </td><td>0         </td><td>0                  </td></tr>\n",
       "<tr><td>missing</td><td>0                </td><td>1665                  </td><td>1643                   </td><td>1666</td><td>1197               </td><td>1666</td><td>1566               </td><td>1539              </td><td>0                 </td><td>1663               </td><td>1665 </td><td>1666</td><td>1666</td><td>1666</td><td>1666</td><td>1666</td><td>1207               </td><td>0                 </td><td>0                 </td><td>307                </td><td>0      </td><td>0                 </td><td>0                  </td><td>0                 </td><td>296              </td><td>362               </td><td>247               </td><td>0                   </td><td>0                </td><td>0                 </td><td>0                </td><td>0        </td><td>1370               </td><td>1651                 </td><td>0                  </td><td>0            </td><td>0                 </td><td>0       </td><td>0                  </td><td>0                  </td><td>0                 </td><td>0                 </td><td>0                 </td><td>0                    </td><td>1577              </td><td>1577              </td><td>0                 </td><td>286       </td><td>0    </td><td>0                  </td><td>21               </td><td>58                </td><td>0                 </td><td>0                </td><td>0    </td><td>1666    </td><td>0                     </td><td>0                </td><td>0                     </td><td>247       </td><td>0                 </td><td>0                  </td><td>386               </td><td>0                     </td><td>0                     </td><td>0                    </td><td>0                     </td><td>0                    </td><td>0                     </td><td>0                  </td><td>0                     </td><td>0                     </td><td>0                 </td><td>0                     </td><td>0                  </td><td>0                     </td><td>0       </td><td>0                 </td><td>0                 </td><td>0                 </td><td>0                 </td><td>1666      </td><td>0                  </td></tr>\n",
       "<tr><td>0      </td><td>0.0              </td><td>nan                   </td><td>nan                    </td><td>nan </td><td>0.713              </td><td>nan </td><td>0.12               </td><td>62.873006         </td><td>3.34              </td><td>nan                </td><td>nan  </td><td>nan </td><td>nan </td><td>nan </td><td>nan </td><td>nan </td><td>0.426              </td><td>2.769165146349478 </td><td>2.979646696468275 </td><td>0.09               </td><td>MBA    </td><td>2640.0802241862843</td><td>0.0                </td><td>24437.0           </td><td>939.4            </td><td>0.2               </td><td>nan               </td><td>0.07600902762923671 </td><td>2458600.5        </td><td>20190427.0        </td><td>58600.0          </td><td>J2000    </td><td>nan                </td><td>964.4 x 964.2 x 891.8</td><td>1950-04-09 00:00:00</td><td>1 Ceres      </td><td>10.59406732590292 </td><td>a0000001</td><td>2017-03-05 00:00:00</td><td>77.37209773768207  </td><td>1.59478           </td><td>2.09753           </td><td>620.6405326       </td><td>0.2138852268564227   </td><td>405.0             </td><td>0.0               </td><td>5993.0            </td><td>Ceres     </td><td>N    </td><td>80.30553084093981  </td><td>34.0             </td><td>1.0               </td><td>1683.145700575484 </td><td>4.6082017811786  </td><td>N    </td><td>nan     </td><td>8123022111651.299     </td><td>Davide Farnocchia</td><td>522924215944.27673    </td><td>          </td><td>2.558683596230681 </td><td>0.36954            </td><td>9.07417           </td><td>-6781157870666.667    </td><td>132.02401120931424    </td><td>2.5823e-11           </td><td>2.7786e-11            </td><td>1.172e-11            </td><td>1.9267e-09            </td><td>3.8719e-09         </td><td>2.9918e-12            </td><td>1.1722e-08            </td><td>2.3543e-08        </td><td>5.6278e-11            </td><td>1.327e-08          </td><td>1.1463e-08            </td><td>C       </td><td>2000001.0         </td><td>3.309             </td><td>2458238.7541287453</td><td>20180430.2541287  </td><td>nan       </td><td>73.59769486239257  </td></tr>\n",
       "<tr><td>1      </td><td>1.0              </td><td>nan                   </td><td>nan                    </td><td>nan </td><td>0.635              </td><td>nan </td><td>0.11               </td><td>13.80133411764706 </td><td>4.13              </td><td>nan                </td><td>nan  </td><td>nan </td><td>nan </td><td>nan </td><td>nan </td><td>nan </td><td>0.284              </td><td>2.772465922815752 </td><td>3.411066885554264 </td><td>0.101              </td><td>MBA    </td><td>2641.8234972235623</td><td>0.0                </td><td>71865.0           </td><td>545.0            </td><td>18.0              </td><td>nan               </td><td>0.2303368122519394  </td><td>2458600.5        </td><td>20190427.0        </td><td>58600.0          </td><td>J2000    </td><td>nan                </td><td>582x556x500          </td><td>1821-05-09 00:00:00</td><td>2 Pallas     </td><td>34.83623460557907 </td><td>a0000002</td><td>2018-02-10 00:00:00</td><td>59.69913098405375  </td><td>1.23324           </td><td>1.85493           </td><td>479.9400108       </td><td>0.2135033769950547   </td><td>nan               </td><td>nan               </td><td>8441.0            </td><td>Pallas    </td><td>N    </td><td>173.0800618276949  </td><td>34.0             </td><td>2.0               </td><td>1686.155999342055 </td><td>4.61644353002616 </td><td>N    </td><td>nan     </td><td>1778134717223.647     </td><td>Otto Matic       </td><td>114544028871.98692    </td><td>          </td><td>2.13386496007724  </td><td>0.35911            </td><td>7.8132            </td><td>-1050910338823.5295   </td><td>132.1111748611781     </td><td>4.1378e-09           </td><td>5.0909e-09            </td><td>3.3707e-08           </td><td>3.7128e-06            </td><td>9.1517e-06         </td><td>4.7797e-10            </td><td>6.4634e-06            </td><td>3.7748e-06        </td><td>9.3154e-08            </td><td>4.2568e-05         </td><td>9.5186e-06            </td><td>B       </td><td>2000002.0         </td><td>3.043             </td><td>2458320.883200377 </td><td>20180721.3832004  </td><td>nan       </td><td>310.0488584525203  </td></tr>\n",
       "<tr><td>2      </td><td>2.0              </td><td>nan                   </td><td>nan                    </td><td>nan </td><td>0.824              </td><td>nan </td><td>0.32               </td><td>1.8072708333333336</td><td>5.33              </td><td>nan                </td><td>nan  </td><td>nan </td><td>nan </td><td>nan </td><td>nan </td><td>nan </td><td>0.433              </td><td>2.669149515649107 </td><td>3.354966971211181 </td><td>0.214              </td><td>MBA    </td><td>2644.5207185757786</td><td>0.0                </td><td>72161.0           </td><td>246.596          </td><td>10.594            </td><td>nan               </td><td>0.2569423149737984  </td><td>2458600.5        </td><td>20190427.0        </td><td>58600.0          </td><td>J2000    </td><td>nan                </td><td>                     </td><td>1820-05-02 00:00:00</td><td>3 Juno       </td><td>12.98891943923851 </td><td>a0000003</td><td>2017-11-26 00:00:00</td><td>34.92501898650092  </td><td>1.03454           </td><td>2.18657           </td><td>402.6119318       </td><td>0.2260188812382131   </td><td>nan               </td><td>nan               </td><td>7010.0            </td><td>Juno      </td><td>N    </td><td>169.8527548037533  </td><td>107.0            </td><td>3.0               </td><td>1592.787284087904 </td><td>4.36081391947407 </td><td>N    </td><td>nan     </td><td>2.7083333333333337e-44</td><td>Otto Matic       </td><td>1.7464376415226536e-45</td><td>          </td><td>1.983332060087033 </td><td>0.31378            </td><td>7.21              </td><td>-198611111111.11115   </td><td>5.416666666666668e-56 </td><td>3.7685e-09           </td><td>4.7367e-09            </td><td>3.2676e-08           </td><td>3.5292e-06            </td><td>8.6339e-06         </td><td>4.7866e-10            </td><td>1.7902e-05            </td><td>3.3732e-06        </td><td>8.7261e-08            </td><td>3.8028e-05         </td><td>1.9082e-05            </td><td>Sk      </td><td>2000003.0         </td><td>3.298             </td><td>2458445.9774273937</td><td>20181123.4774274  </td><td>nan       </td><td>248.1386297217077  </td></tr>\n",
       "<tr><td>3      </td><td>3.0              </td><td>nan                   </td><td>nan                    </td><td>nan </td><td>0.782              </td><td>nan </td><td>0.32               </td><td>17.652865416666664</td><td>3.2               </td><td>nan                </td><td>nan  </td><td>nan </td><td>nan </td><td>nan </td><td>nan </td><td>nan </td><td>0.492              </td><td>2.361417895877277 </td><td>2.570926338111508 </td><td>0.4228             </td><td>MBA    </td><td>2649.7975580265224</td><td>0.0                </td><td>24288.0           </td><td>525.4            </td><td>0.2               </td><td>nan               </td><td>0.08872145950956178 </td><td>2458600.5        </td><td>20190427.0        </td><td>58600.0          </td><td>J2000    </td><td>nan                </td><td>572.6 x 557.2 x 446.4</td><td>1950-09-23 00:00:00</td><td>4 Vesta      </td><td>7.141770811873426 </td><td>a0000004</td><td>2017-03-23 00:00:00</td><td>95.86193620017684  </td><td>1.13948           </td><td>2.46988           </td><td>443.4514316       </td><td>0.2716094015313151   </td><td>2977.0            </td><td>0.0               </td><td>9325.0            </td><td>Vesta     </td><td>N    </td><td>103.810804427096   </td><td>34.0             </td><td>4.0               </td><td>1325.432764736216 </td><td>3.62883713822373 </td><td>N    </td><td>nan     </td><td>2.6454166666666668e-43</td><td>Davide Farnocchia</td><td>1.709270413823387e-44 </td><td>          </td><td>2.151909453643047 </td><td>0.39592            </td><td>5.34212766        </td><td>-1939972222222.2224   </td><td>5.2908333333333334e-55</td><td>1.5403e-09           </td><td>1.6769e-09            </td><td>2.3717e-10           </td><td>2.2072e-07            </td><td>1.2275e-06         </td><td>2.6574e-10            </td><td>3.9411e-07            </td><td>1.2968e-06        </td><td>1.9617e-09            </td><td>4.1741e-06         </td><td>1.805e-07             </td><td>V       </td><td>2000004.0         </td><td>3.535             </td><td>2458247.5595801924</td><td>20180509.0595802  </td><td>nan       </td><td>150.7285412870121  </td></tr>\n",
       "<tr><td>4      </td><td>4.0              </td><td>nan                   </td><td>nan                    </td><td>nan </td><td>0.826              </td><td>nan </td><td>nan                </td><td>0.19251605        </td><td>6.85              </td><td>nan                </td><td>nan  </td><td>nan </td><td>nan </td><td>nan </td><td>nan </td><td>nan </td><td>0.411              </td><td>2.574248918285955 </td><td>3.066173786932414 </td><td>0.274              </td><td>MBA    </td><td>2645.555146834909 </td><td>0.0                </td><td>63097.0           </td><td>106.699          </td><td>3.14              </td><td>nan               </td><td>0.191094522814835   </td><td>2458600.5        </td><td>20190427.0        </td><td>58600.0          </td><td>J2000    </td><td>nan                </td><td>                     </td><td>1845-12-15 00:00:00</td><td>5 Astraea    </td><td>5.366988177936237 </td><td>a0000005</td><td>2018-09-16 00:00:00</td><td>282.3662912620402  </td><td>1.09589           </td><td>1.9604            </td><td>426.4875113       </td><td>0.2386317716345598   </td><td>nan               </td><td>nan               </td><td>2695.0            </td><td>Astraea   </td><td>N    </td><td>141.5765957220505  </td><td>107.0            </td><td>5.0               </td><td>1508.60045807858  </td><td>4.13032295161829 </td><td>N    </td><td>nan     </td><td>2.8850000000000007e-45</td><td>Otto Matic       </td><td>1.8610868086289368e-46</td><td>          </td><td>2.082324049639495 </td><td>0.49752            </td><td>16.806            </td><td>-21156666666.666668   </td><td>5.770000000000001e-57 </td><td>4.5689e-09           </td><td>5.4419e-09            </td><td>2.4345e-08           </td><td>2.8131e-06            </td><td>9.054e-06          </td><td>6.353e-10             </td><td>2.973e-05             </td><td>4.0163e-06        </td><td>6.2247e-08            </td><td>3.8278e-05         </td><td>3.066e-05             </td><td>S       </td><td>2000005.0         </td><td>3.396             </td><td>2458925.8284682347</td><td>20200317.3284682  </td><td>nan       </td><td>358.6876128146665  </td></tr>\n",
       "<tr><td>5      </td><td>5.0              </td><td>nan                   </td><td>nan                    </td><td>nan </td><td>0.822              </td><td>nan </td><td>0.24               </td><td>0.9448968         </td><td>5.71              </td><td>nan                </td><td>nan  </td><td>nan </td><td>nan </td><td>nan </td><td>nan </td><td>nan </td><td>0.399              </td><td>2.425159990868159 </td><td>2.917484701566579 </td><td>0.2679             </td><td>MBA    </td><td>2649.328266764113 </td><td>0.0                </td><td>61770.0           </td><td>185.18           </td><td>2.9               </td><td>nan               </td><td>0.2030071057382805  </td><td>2458600.5        </td><td>20190427.0        </td><td>58600.0          </td><td>J2000    </td><td>nan                </td><td>                     </td><td>1848-09-05 00:00:00</td><td>6 Hebe       </td><td>14.73790068157333 </td><td>a0000006</td><td>2017-10-19 00:00:00</td><td>86.19792168692148  </td><td>0.973965          </td><td>2.6358            </td><td>379.03795905      </td><td>0.2609717402740113   </td><td>nan               </td><td>nan               </td><td>5986.0            </td><td>Hebe      </td><td>N    </td><td>138.6402040860603  </td><td>85.0             </td><td>6.0               </td><td>1379.459705568168 </td><td>3.77675484070683 </td><td>N    </td><td>nan     </td><td>1.4160000000000004e-44</td><td>Otto Matic       </td><td>9.147512698112302e-46 </td><td>          </td><td>1.932835280169739 </td><td>0.39825            </td><td>7.2745            </td><td>-103840000000.00002   </td><td>2.832000000000001e-56 </td><td>3.0397e-09           </td><td>3.6568e-09            </td><td>2.0567e-08           </td><td>2.2906e-06            </td><td>7.752e-06          </td><td>4.9065e-10            </td><td>1.1797e-05            </td><td>2.5935e-06        </td><td>5.0172e-08            </td><td>2.9502e-05         </td><td>1.3726e-05            </td><td>S       </td><td>2000006.0         </td><td>3.439             </td><td>2458270.2040009145</td><td>20180531.7040009  </td><td>nan       </td><td>239.8074896057582  </td></tr>\n",
       "<tr><td>6      </td><td>6.0              </td><td>nan                   </td><td>nan                    </td><td>nan </td><td>0.855              </td><td>nan </td><td>nan                </td><td>0.9299302142857144</td><td>5.51              </td><td>nan                </td><td>nan  </td><td>nan </td><td>nan </td><td>nan </td><td>nan </td><td>nan </td><td>0.484              </td><td>2.38533381395173  </td><td>2.93683679854833  </td><td>0.2766             </td><td>MBA    </td><td>2650.7674106458044</td><td>0.0                </td><td>61942.0           </td><td>199.83           </td><td>10.0              </td><td>nan               </td><td>0.2312057882091302  </td><td>2458600.5        </td><td>20190427.0        </td><td>58600.0          </td><td>J2000    </td><td>nan                </td><td>                     </td><td>1848-08-23 00:00:00</td><td>7 Iris       </td><td>5.523651438133126 </td><td>a0000007</td><td>2018-03-27 00:00:00</td><td>140.4196553603943  </td><td>0.8461            </td><td>2.47021           </td><td>329.276737        </td><td>0.2675348279194212   </td><td>1.0               </td><td>0.0               </td><td>5110.0            </td><td>Iris      </td><td>N    </td><td>259.5632326380281  </td><td>108.0            </td><td>7.0               </td><td>1345.619195824584 </td><td>3.6841045744684  </td><td>N    </td><td>nan     </td><td>1.393571428571429e-44 </td><td>Otto Matic       </td><td>9.007512029904217e-46 </td><td>          </td><td>1.833830829355129 </td><td>0.36591            </td><td>7.139             </td><td>-102195238095.23811   </td><td>2.787142857142858e-56 </td><td>2.1478e-09           </td><td>2.6444e-09            </td><td>2.0047e-08           </td><td>2.613e-06             </td><td>7.0694e-06         </td><td>3.6134e-10            </td><td>2.6599e-05            </td><td>1.8174e-06        </td><td>4.7778e-08            </td><td>2.5964e-05         </td><td>2.7269e-05            </td><td>S       </td><td>2000007.0         </td><td>3.493             </td><td>2458075.635045211 </td><td>20171118.1350452  </td><td>nan       </td><td>145.265103459468   </td></tr>\n",
       "<tr><td>7      </td><td>7.0              </td><td>nan                   </td><td>nan                    </td><td>nan </td><td>0.696              </td><td>nan </td><td>nan                </td><td>5.806622166666667 </td><td>5.43              </td><td>nan                </td><td>nan  </td><td>nan </td><td>nan </td><td>nan </td><td>nan </td><td>nan </td><td>0.351              </td><td>3.141539178476305 </td><td>3.494838741095881 </td><td>0.0717             </td><td>MBA    </td><td>2633.2819699462457</td><td>0.0                </td><td>61872.0           </td><td>407.12           </td><td>6.8               </td><td>nan               </td><td>0.1124606578329963  </td><td>2458600.5        </td><td>20190427.0        </td><td>58600.0          </td><td>J2000    </td><td>nan                </td><td>                     </td><td>1849-05-26 00:00:00</td><td>10 Hygiea    </td><td>3.831560260844386 </td><td>a0000010</td><td>2018-10-19 00:00:00</td><td>152.1848508422612  </td><td>1.77839           </td><td>1.53558           </td><td>692.0960363       </td><td>0.1770069641572149   </td><td>nan               </td><td>nan               </td><td>3341.0            </td><td>Hygiea    </td><td>N    </td><td>283.2021663567859  </td><td>90.0             </td><td>10.0              </td><td>2033.818283444788 </td><td>5.56829098821297 </td><td>N    </td><td>nan     </td><td>750199859282.0249     </td><td>Otto Matic       </td><td>48170187677.37012     </td><td>          </td><td>2.788239615856729 </td><td>0.53109            </td><td>27.63             </td><td>-626272292555.5557    </td><td>131.6840984973123     </td><td>6.9628e-09           </td><td>7.7459e-09            </td><td>1.6377e-08           </td><td>2.1883e-06            </td><td>1.1128e-05         </td><td>5.8847e-10            </td><td>2.8718e-05            </td><td>6.7616e-06        </td><td>5.1029e-08            </td><td>6.1608e-05         </td><td>3.0405e-05            </td><td>C       </td><td>2000010.0         </td><td>3.197             </td><td>2457740.732410816 </td><td>20161218.2324108  </td><td>nan       </td><td>312.315207696501   </td></tr>\n",
       "<tr><td>8      </td><td>8.0              </td><td>nan                   </td><td>nan                    </td><td>nan </td><td>0.837              </td><td>nan </td><td>nan                </td><td>0.3762089111111111</td><td>6.55              </td><td>nan                </td><td>nan  </td><td>nan </td><td>nan </td><td>nan </td><td>nan </td><td>nan </td><td>0.417              </td><td>2.45310938059135  </td><td>2.699578830844098 </td><td>0.191              </td><td>MBA    </td><td>2647.516289279344 </td><td>0.0                </td><td>61272.0           </td><td>142.887          </td><td>1.008             </td><td>nan               </td><td>0.1004722627546813  </td><td>2458600.5        </td><td>20190427.0        </td><td>58600.0          </td><td>J2000    </td><td>nan                </td><td>                     </td><td>1850-09-17 00:00:00</td><td>11 Parthenope</td><td>4.629886722119001 </td><td>a0000011</td><td>2018-06-20 00:00:00</td><td>278.9306853688023  </td><td>1.19322           </td><td>2.54671           </td><td>464.3654274       </td><td>0.2565244139467473   </td><td>nan               </td><td>nan               </td><td>5420.0            </td><td>Parthenope</td><td>N    </td><td>125.5465851222689  </td><td>102.0            </td><td>11.0              </td><td>1403.375197164405 </td><td>3.84223188819823 </td><td>N    </td><td>nan     </td><td>5.637777777777779e-45 </td><td>Otto Matic       </td><td>3.63957429243679e-46  </td><td>          </td><td>2.206639930338603 </td><td>0.44295            </td><td>13.7204           </td><td>-41343703703.703705   </td><td>1.1275555555555557e-56</td><td>2.717e-09            </td><td>2.99e-09              </td><td>3.2426e-08           </td><td>3.6601e-06            </td><td>1.2788e-05         </td><td>4.2618e-10            </td><td>2.558e-05             </td><td>2.3315e-06        </td><td>8.0157e-08            </td><td>4.9975e-05         </td><td>2.8815e-05            </td><td>Sk      </td><td>2000011.0         </td><td>3.483             </td><td>2458916.5296261236</td><td>20200308.0296261  </td><td>nan       </td><td>195.5503976663632  </td></tr>\n",
       "<tr><td>9      </td><td>9.0              </td><td>nan                   </td><td>nan                    </td><td>nan </td><td>0.874              </td><td>nan </td><td>0.22               </td><td>0.18377442        </td><td>7.24              </td><td>nan                </td><td>nan  </td><td>nan </td><td>nan </td><td>nan </td><td>nan </td><td>nan </td><td>0.515              </td><td>2.334315089265638 </td><td>2.848264899688034 </td><td>0.163              </td><td>MBA    </td><td>2651.9150475481197</td><td>0.0                </td><td>61352.0           </td><td>115.087          </td><td>1.199             </td><td>nan               </td><td>0.2201715667202758  </td><td>2458600.5        </td><td>20190427.0        </td><td>58600.0          </td><td>J2000    </td><td>nan                </td><td>                     </td><td>1850-09-18 00:00:00</td><td>12 Victoria  </td><td>8.37307433147402  </td><td>a0000012</td><td>2018-09-09 00:00:00</td><td>133.3358878139632  </td><td>0.824953          </td><td>2.43133           </td><td>321.04695901      </td><td>0.2763534290978856   </td><td>nan               </td><td>nan               </td><td>2823.0            </td><td>Victoria  </td><td>N    </td><td>235.4101835262568  </td><td>112.0            </td><td>12.0              </td><td>1302.67969236049  </td><td>3.56654262111017 </td><td>N    </td><td>nan     </td><td>9639000000.000002     </td><td>Otto Matic       </td><td>623297783.3016577     </td><td>          </td><td>1.820365278843242 </td><td>0.5201             </td><td>8.6599            </td><td>-15954840000.000002   </td><td>132.615030377406      </td><td>2.8237e-09           </td><td>3.4454e-09            </td><td>2.5972e-08           </td><td>2.5866e-06            </td><td>7.7152e-06         </td><td>5.0144e-10            </td><td>2.0106e-05            </td><td>2.3637e-06        </td><td>6.0913e-08            </td><td>2.7407e-05         </td><td>2.101e-05             </td><td>L       </td><td>2000012.0         </td><td>3.522             </td><td>2458118.0167963384</td><td>20171230.5167963  </td><td>nan       </td><td>69.64180604042276  </td></tr>\n",
       "</tbody>\n",
       "</table>"
      ]
     },
     "metadata": {},
     "output_type": "display_data"
    }
   ],
   "source": [
    "data = h2o.import_file(\"../data/interim/asteroid_spec_B.csv\")\n",
    "data.describe()"
   ]
  },
  {
   "cell_type": "code",
   "execution_count": 5,
   "metadata": {},
   "outputs": [],
   "source": [
    "y = \"spec_B\"\n",
    "x = data.columns\n",
    "x.remove(y)"
   ]
  },
  {
   "cell_type": "code",
   "execution_count": 6,
   "metadata": {},
   "outputs": [
    {
     "name": "stdout",
     "output_type": "stream",
     "text": [
      "AutoML progress: |████████████████████████████████████████████████████████| 100%\n"
     ]
    }
   ],
   "source": [
    "aml = H2OAutoML(seed = 1, max_models=3)\n",
    "aml.train(x = x, y = y, training_frame = data)"
   ]
  },
  {
   "cell_type": "code",
   "execution_count": 7,
   "metadata": {},
   "outputs": [
    {
     "data": {
      "text/html": [
       "<table>\n",
       "<thead>\n",
       "<tr><th>model_id                                           </th><th style=\"text-align: right;\">  mean_per_class_error</th><th style=\"text-align: right;\">  logloss</th><th style=\"text-align: right;\">    rmse</th><th style=\"text-align: right;\">     mse</th></tr>\n",
       "</thead>\n",
       "<tbody>\n",
       "<tr><td>XGBoost_1_AutoML_20190508_163417                   </td><td style=\"text-align: right;\">              0.75639 </td><td style=\"text-align: right;\">  1.59273</td><td style=\"text-align: right;\">0.704588</td><td style=\"text-align: right;\">0.496444</td></tr>\n",
       "<tr><td>StackedEnsemble_BestOfFamily_AutoML_20190508_163417</td><td style=\"text-align: right;\">              0.765867</td><td style=\"text-align: right;\">  1.52771</td><td style=\"text-align: right;\">0.694195</td><td style=\"text-align: right;\">0.481907</td></tr>\n",
       "<tr><td>StackedEnsemble_AllModels_AutoML_20190508_163417   </td><td style=\"text-align: right;\">              0.767068</td><td style=\"text-align: right;\">  1.51361</td><td style=\"text-align: right;\">0.692267</td><td style=\"text-align: right;\">0.479234</td></tr>\n",
       "<tr><td>XGBoost_3_AutoML_20190508_163417                   </td><td style=\"text-align: right;\">              0.797759</td><td style=\"text-align: right;\">  1.87367</td><td style=\"text-align: right;\">0.791996</td><td style=\"text-align: right;\">0.627258</td></tr>\n",
       "<tr><td>XGBoost_2_AutoML_20190508_163417                   </td><td style=\"text-align: right;\">              0.841782</td><td style=\"text-align: right;\">  1.94944</td><td style=\"text-align: right;\">0.807971</td><td style=\"text-align: right;\">0.652817</td></tr>\n",
       "</tbody>\n",
       "</table>"
      ]
     },
     "metadata": {},
     "output_type": "display_data"
    },
    {
     "data": {
      "text/plain": []
     },
     "execution_count": 7,
     "metadata": {},
     "output_type": "execute_result"
    }
   ],
   "source": [
    "aml.leaderboard.head()"
   ]
  },
  {
   "cell_type": "code",
   "execution_count": 8,
   "metadata": {},
   "outputs": [
    {
     "name": "stdout",
     "output_type": "stream",
     "text": [
      "AutoML progress: |████████████████████████████████████████████████████████| 100%\n"
     ]
    }
   ],
   "source": [
    "aml2 = H2OAutoML(seed = 42, max_runtime_secs = 3600)\n",
    "aml2.train(x = x, y = y, training_frame = data)"
   ]
  },
  {
   "cell_type": "code",
   "execution_count": 9,
   "metadata": {},
   "outputs": [
    {
     "data": {
      "text/html": [
       "<table>\n",
       "<thead>\n",
       "<tr><th>model_id                                           </th><th style=\"text-align: right;\">  mean_per_class_error</th><th style=\"text-align: right;\">  logloss</th><th style=\"text-align: right;\">    rmse</th><th style=\"text-align: right;\">     mse</th></tr>\n",
       "</thead>\n",
       "<tbody>\n",
       "<tr><td>XGBoost_1_AutoML_20190508_163417                   </td><td style=\"text-align: right;\">              0.75639 </td><td style=\"text-align: right;\">  1.59273</td><td style=\"text-align: right;\">0.704588</td><td style=\"text-align: right;\">0.496444</td></tr>\n",
       "<tr><td>XGBoost_grid_1_AutoML_20190508_164108_model_13     </td><td style=\"text-align: right;\">              0.757814</td><td style=\"text-align: right;\">  1.8621 </td><td style=\"text-align: right;\">0.742653</td><td style=\"text-align: right;\">0.551534</td></tr>\n",
       "<tr><td>XGBoost_grid_1_AutoML_20190508_164108_model_27     </td><td style=\"text-align: right;\">              0.759682</td><td style=\"text-align: right;\">  1.61969</td><td style=\"text-align: right;\">0.713932</td><td style=\"text-align: right;\">0.509699</td></tr>\n",
       "<tr><td>XGBoost_grid_1_AutoML_20190508_164108_model_33     </td><td style=\"text-align: right;\">              0.764238</td><td style=\"text-align: right;\">  1.77234</td><td style=\"text-align: right;\">0.733736</td><td style=\"text-align: right;\">0.538368</td></tr>\n",
       "<tr><td>StackedEnsemble_BestOfFamily_AutoML_20190508_163417</td><td style=\"text-align: right;\">              0.765867</td><td style=\"text-align: right;\">  1.52771</td><td style=\"text-align: right;\">0.694195</td><td style=\"text-align: right;\">0.481907</td></tr>\n",
       "<tr><td>StackedEnsemble_AllModels_AutoML_20190508_163417   </td><td style=\"text-align: right;\">              0.767068</td><td style=\"text-align: right;\">  1.51361</td><td style=\"text-align: right;\">0.692267</td><td style=\"text-align: right;\">0.479234</td></tr>\n",
       "<tr><td>XGBoost_1_AutoML_20190508_164108                   </td><td style=\"text-align: right;\">              0.767992</td><td style=\"text-align: right;\">  1.63152</td><td style=\"text-align: right;\">0.721851</td><td style=\"text-align: right;\">0.521068</td></tr>\n",
       "<tr><td>XGBoost_grid_1_AutoML_20190508_164108_model_25     </td><td style=\"text-align: right;\">              0.773796</td><td style=\"text-align: right;\">  1.69726</td><td style=\"text-align: right;\">0.72785 </td><td style=\"text-align: right;\">0.529766</td></tr>\n",
       "<tr><td>XGBoost_grid_1_AutoML_20190508_164108_model_32     </td><td style=\"text-align: right;\">              0.774001</td><td style=\"text-align: right;\">  1.89725</td><td style=\"text-align: right;\">0.783872</td><td style=\"text-align: right;\">0.614456</td></tr>\n",
       "<tr><td>XGBoost_grid_1_AutoML_20190508_164108_model_21     </td><td style=\"text-align: right;\">              0.774458</td><td style=\"text-align: right;\">  1.87443</td><td style=\"text-align: right;\">0.773646</td><td style=\"text-align: right;\">0.598529</td></tr>\n",
       "</tbody>\n",
       "</table>"
      ]
     },
     "metadata": {},
     "output_type": "display_data"
    },
    {
     "data": {
      "text/plain": []
     },
     "execution_count": 9,
     "metadata": {},
     "output_type": "execute_result"
    }
   ],
   "source": [
    "aml2.leaderboard.head()"
   ]
  },
  {
   "cell_type": "code",
   "execution_count": 10,
   "metadata": {},
   "outputs": [
    {
     "data": {
      "text/plain": [
       "'/home/louzada/Documents/_Projects/asterank/predictions/models/aml2_leader_spec_B.h2obin/XGBoost_1_AutoML_20190508_163417'"
      ]
     },
     "execution_count": 10,
     "metadata": {},
     "output_type": "execute_result"
    }
   ],
   "source": [
    "h2o.save_model(aml2.leader, path = \"../models/aml2_leader_spec_B.h2obin\")"
   ]
  }
 ],
 "metadata": {
  "kernelspec": {
   "display_name": "Python 3",
   "language": "python",
   "name": "python3"
  },
  "language_info": {
   "codemirror_mode": {
    "name": "ipython",
    "version": 3
   },
   "file_extension": ".py",
   "mimetype": "text/x-python",
   "name": "python",
   "nbconvert_exporter": "python",
   "pygments_lexer": "ipython3",
   "version": "3.7.2"
  }
 },
 "nbformat": 4,
 "nbformat_minor": 2
}
